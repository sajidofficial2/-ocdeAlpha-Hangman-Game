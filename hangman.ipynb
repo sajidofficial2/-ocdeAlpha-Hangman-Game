{
  "nbformat": 4,
  "nbformat_minor": 0,
  "metadata": {
    "colab": {
      "provenance": []
    },
    "kernelspec": {
      "name": "python3",
      "display_name": "Python 3"
    },
    "language_info": {
      "name": "python"
    }
  },
  "cells": [
    {
      "cell_type": "code",
      "execution_count": null,
      "metadata": {
        "colab": {
          "base_uri": "https://localhost:8080/"
        },
        "id": "divfJa4dmr50",
        "outputId": "09719cbb-44ca-4c84-d87d-19b120f98580"
      },
      "outputs": [
        {
          "output_type": "stream",
          "name": "stdout",
          "text": [
            "Welcome to Hangman!\n",
            "_ _ _ _ _ \n",
            "Guess a letter: a\n",
            "_ a _ _ _\n",
            "Guess a letter: c\n",
            "Wrong! You have 5 tries left.\n",
            "_ a _ _ _\n",
            "Guess a letter: h\n",
            "Wrong! You have 4 tries left.\n",
            "_ a _ _ _\n",
            "Guess a letter: c\n",
            "You already guessed that letter.\n",
            "Guess a letter: d\n",
            "Wrong! You have 3 tries left.\n",
            "_ a _ _ _\n",
            "Guess a letter: e\n",
            "Wrong! You have 2 tries left.\n",
            "_ a _ _ _\n",
            "Guess a letter: n\n",
            "_ a n _ _\n",
            "Guess a letter: b\n",
            "Wrong! You have 1 tries left.\n",
            "_ a n _ _\n",
            "Guess a letter: b\n",
            "You already guessed that letter.\n"
          ]
        }
      ],
      "source": [
        "import random\n",
        "\n",
        "def hangman():\n",
        "    word_list = ['apple', 'banana', 'orange', 'grape', 'mango']\n",
        "    chosen_word = random.choice(word_list)\n",
        "    guessed_letters = []\n",
        "    tries = 6\n",
        "\n",
        "    print(\"Welcome to Hangman!\")\n",
        "    print(\"_ \" * len(chosen_word))\n",
        "\n",
        "    while tries > 0:\n",
        "        guess = input(\"Guess a letter: \").lower()\n",
        "        if guess in guessed_letters:\n",
        "            print(\"You already guessed that letter.\")\n",
        "            continue\n",
        "\n",
        "        guessed_letters.append(guess)\n",
        "\n",
        "        if guess not in chosen_word:\n",
        "            tries -= 1\n",
        "            print(f\"Wrong! You have {tries} tries left.\")\n",
        "\n",
        "        display_word = \"\".join([letter if letter in guessed_letters else \"_\" for letter in chosen_word])\n",
        "        print(\" \".join(display_word))\n",
        "\n",
        "        if \"_\" not in display_word:\n",
        "            print(\"Congratulations! You guessed the word.\")\n",
        "            return\n",
        "\n",
        "    print(f\"Game Over! The word was '{chosen_word}'.\")\n",
        "\n",
        "hangman()\n"
      ]
    },
    {
      "cell_type": "code",
      "source": [
        "\n"
      ],
      "metadata": {
        "id": "l55QAlJHnus1"
      },
      "execution_count": null,
      "outputs": []
    }
  ]
}